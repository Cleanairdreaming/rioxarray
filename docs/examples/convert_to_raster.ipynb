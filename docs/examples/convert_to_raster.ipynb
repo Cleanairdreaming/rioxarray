{
 "cells": [
  {
   "cell_type": "markdown",
   "metadata": {},
   "source": [
    "# Example - Convert dataset to raster (GeoTiff)\n",
    "\n",
    "Often, it is desirable to take a variable (band) out of your dataset and export it to a raster.\n",
    "This is possible with the [rio.to_raster()](../rioxarray.rst#rioxarray.rioxarray.RasterArray.to_raster) method. It does most of the work for you so you don't\n",
    "have to.\n",
    "\n",
    "Note: The [rio.to_raster()](../rioxarray.rst#rioxarray.rioxarray.RasterArray.to_raster) method only works on a 2-dimensional or 3-dimensional `xarray.DataArray`"
   ]
  },
  {
   "cell_type": "code",
   "execution_count": 1,
   "metadata": {},
   "outputs": [],
   "source": [
    "import rioxarray\n",
    "import rasterio\n",
    "import xarray\n",
    "import re"
   ]
  },
  {
   "cell_type": "markdown",
   "metadata": {},
   "source": [
    "See docs for [rioxarray.open_rasterio](../rioxarray.rst#rioxarray-open-rasterio)"
   ]
  },
  {
   "cell_type": "code",
   "execution_count": 2,
   "metadata": {},
   "outputs": [
    {
     "data": {
      "text/html": [
       "<pre>&lt;xarray.Dataset&gt;\n",
       "Dimensions:      (time: 2, x: 10, y: 10)\n",
       "Coordinates:\n",
       "  * time         (time) object 2016-12-19 10:27:29 2016-12-29 12:52:41.659696\n",
       "  * y            (y) float64 8.085e+06 8.085e+06 ... 8.085e+06 8.085e+06\n",
       "  * x            (x) float64 4.663e+05 4.663e+05 ... 4.663e+05 4.663e+05\n",
       "    spatial_ref  int64 0\n",
       "Data variables:\n",
       "    green        (time, y, x) float64 ...\n",
       "Attributes:\n",
       "    coordinates:  spatial_ref</pre>"
      ],
      "text/plain": [
       "<xarray.Dataset>\n",
       "Dimensions:      (time: 2, x: 10, y: 10)\n",
       "Coordinates:\n",
       "  * time         (time) object 2016-12-19 10:27:29 2016-12-29 12:52:41.659696\n",
       "  * y            (y) float64 8.085e+06 8.085e+06 ... 8.085e+06 8.085e+06\n",
       "  * x            (x) float64 4.663e+05 4.663e+05 ... 4.663e+05 4.663e+05\n",
       "    spatial_ref  int64 0\n",
       "Data variables:\n",
       "    green        (time, y, x) float64 ...\n",
       "Attributes:\n",
       "    coordinates:  spatial_ref"
      ]
     },
     "execution_count": 2,
     "metadata": {},
     "output_type": "execute_result"
    }
   ],
   "source": [
    "rds = rioxarray.open_rasterio(\n",
    "    \"../../test/test_data/input/PLANET_SCOPE_3D.nc\",\n",
    "    variable=[\"green\"],\n",
    ")\n",
    "rds"
   ]
  },
  {
   "cell_type": "code",
   "execution_count": 35,
   "metadata": {},
   "outputs": [
    {
     "name": "stdout",
     "output_type": "stream",
     "text": [
      "14.5 ms ± 462 µs per loop (mean ± std. dev. of 7 runs, 10 loops each)\n"
     ]
    }
   ],
   "source": [
    "%timeit rds.green.rio.to_raster(\"green_band.tif\", tiled=True, compress=\"LZW\", windowed=True)"
   ]
  },
  {
   "cell_type": "code",
   "execution_count": 36,
   "metadata": {},
   "outputs": [
    {
     "name": "stdout",
     "output_type": "stream",
     "text": [
      "-rw-rw-r-- 1 snowal snowal 4.7K Jan 22 15:25 green_band.tif\n"
     ]
    }
   ],
   "source": [
    "!ls -lh green_band.tif"
   ]
  },
  {
   "cell_type": "markdown",
   "metadata": {},
   "source": [
    "###### rds.green.shape, rds.green.rio.crs, rds.green.rio.nodata, rds.green.rio.bounds()"
   ]
  },
  {
   "cell_type": "code",
   "execution_count": 37,
   "metadata": {},
   "outputs": [
    {
     "name": "stdout",
     "output_type": "stream",
     "text": [
      "3.53 ms ± 334 µs per loop (mean ± std. dev. of 7 runs, 100 loops each)\n"
     ]
    }
   ],
   "source": [
    "%timeit rds = rasterio.open(\"green_band.tif\"); rds.read()"
   ]
  },
  {
   "cell_type": "code",
   "execution_count": null,
   "metadata": {},
   "outputs": [],
   "source": [
    "default: 1.1M 10ms; 2.32ms;\n",
    "zstd level 5: 2.3K 12 ms; 2.67 ms;\n",
    "lzma: 2.6K 39 ms; 7ms;"
   ]
  },
  {
   "cell_type": "markdown",
   "metadata": {},
   "source": [
    "## Managing Information Loss with xarray operations\n",
    "\n",
    "Sometimes, you can lose important information from your dataset when performing operations.\n",
    "You will likely want to keep track of your `nodata` and your `CRS`.\n",
    "\n",
    "API Reference:\n",
    "\n",
    "- [rio.to_raster()](../rioxarray.rst#rioxarray.rioxarray.RasterArray.to_raster)\n",
    "- [rio.write_crs()](../rioxarray.rst#rioxarray.rioxarray.RasterArray.write_crs)\n",
    "- [rio.update_attrs()](../rioxarray.rst#rioxarray.rioxarray.RasterArray.update_attrs)\n",
    "- [rio.crs](../rioxarray.rst#rioxarray.rioxarray.RasterArray.crs)\n",
    "- [rio.nodata](../rioxarray.rst#rioxarray.rioxarray.RasterArray.nodata)"
   ]
  },
  {
   "cell_type": "code",
   "execution_count": null,
   "metadata": {},
   "outputs": [],
   "source": [
    "new_ds = rds.green + rds.green\n",
    "new_ds.attrs, new_ds.rio.crs, new_ds.rio.nodata"
   ]
  },
  {
   "cell_type": "code",
   "execution_count": null,
   "metadata": {},
   "outputs": [],
   "source": [
    "new_ds.rio.to_raster(\"combination.tif\")"
   ]
  },
  {
   "cell_type": "code",
   "execution_count": null,
   "metadata": {},
   "outputs": [],
   "source": [
    "!rio info combination.tif"
   ]
  },
  {
   "cell_type": "code",
   "execution_count": null,
   "metadata": {},
   "outputs": [],
   "source": [
    "new_ds = rds.green + rds.green\n",
    "new_ds.rio.write_crs(rds.green.rio.crs, inplace=True)\n",
    "new_ds.rio.update_attrs(rds.green.attrs, inplace=True)\n",
    "new_ds.attrs, new_ds.rio.crs, new_ds.rio.nodata"
   ]
  },
  {
   "cell_type": "code",
   "execution_count": null,
   "metadata": {},
   "outputs": [],
   "source": [
    "new_ds.rio.to_raster(\"combination_keep_attrs.tif\")"
   ]
  },
  {
   "cell_type": "code",
   "execution_count": null,
   "metadata": {},
   "outputs": [],
   "source": [
    "!rio info combination_keep_attrs.tif"
   ]
  }
 ],
 "metadata": {
  "kernelspec": {
   "display_name": "Python 3",
   "language": "python",
   "name": "python3"
  },
  "language_info": {
   "codemirror_mode": {
    "name": "ipython",
    "version": 3
   },
   "file_extension": ".py",
   "mimetype": "text/x-python",
   "name": "python",
   "nbconvert_exporter": "python",
   "pygments_lexer": "ipython3",
   "version": "3.6.7"
  }
 },
 "nbformat": 4,
 "nbformat_minor": 4
}
